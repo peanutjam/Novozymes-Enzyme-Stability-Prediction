{
  "cells": [
    {
      "cell_type": "markdown",
      "metadata": {
        "collapsed": true,
        "id": "nNn8r191Had8"
      },
      "source": [
        "# Novozymes Enzyme Stability Prediction"
      ]
    },
    {
      "cell_type": "code",
      "source": [
        "from google.colab import drive\n",
        "drive.mount('/content/drive')\n",
        "import os, glob"
      ],
      "metadata": {
        "colab": {
          "base_uri": "https://localhost:8080/"
        },
        "id": "HfGf5SHsWbP2",
        "outputId": "cb96f425-39d3-4ee6-e1f1-2498ce5fc4d0"
      },
      "execution_count": null,
      "outputs": [
        {
          "output_type": "stream",
          "name": "stdout",
          "text": [
            "Drive already mounted at /content/drive; to attempt to forcibly remount, call drive.mount(\"/content/drive\", force_remount=True).\n"
          ]
        }
      ]
    },
    {
      "cell_type": "raw",
      "metadata": {
        "pycharm": {
          "name": "#%%\n"
        },
        "id": "3qyarV8mHad9"
      },
      "source": [
        "Wenxuan Jin, Yizhe Hong, James Ma"
      ]
    },
    {
      "cell_type": "markdown",
      "metadata": {
        "id": "sefMYK0eHad9"
      },
      "source": [
        "# Import Dependencies and Set Global Var"
      ]
    },
    {
      "cell_type": "code",
      "execution_count": null,
      "metadata": {
        "id": "7t9KSmDWHad9"
      },
      "outputs": [],
      "source": [
        "import numpy as np\n",
        "import sklearn\n",
        "from collections import defaultdict\n",
        "import matplotlib.pyplot as plt\n",
        "import scipy.stats as stats\n",
        "import pandas as pd\n",
        "from scipy.spatial import transform\n",
        "from sklearn.preprocessing import OneHotEncoder\n",
        "feature_label = 1\n",
        "feature_field = defaultdict(int)"
      ]
    },
    {
      "cell_type": "markdown",
      "metadata": {
        "id": "Unf-oA9THad-"
      },
      "source": [
        "# Load Datasets"
      ]
    },
    {
      "cell_type": "code",
      "execution_count": null,
      "metadata": {
        "id": "Rx0X3KiVHad-",
        "colab": {
          "base_uri": "https://localhost:8080/"
        },
        "outputId": "e2819d1b-205e-4de4-8d52-6a9917988960"
      },
      "outputs": [
        {
          "output_type": "execute_result",
          "data": {
            "text/plain": [
              "220.9680895151264"
            ]
          },
          "metadata": {},
          "execution_count": 3
        }
      ],
      "source": [
        "train_df = pd.read_csv('/content/drive/MyDrive/Cosi123 group project/novozymes-enzyme-stability-prediction/train.csv')\n",
        "test_df = pd.read_csv('/content/drive/MyDrive/Cosi123 group project/novozymes-enzyme-stability-prediction/test.csv')\n",
        "train_df_without_datasource = train_df[train_df['data_source'].isnull()]\n",
        "train_df_with_datasource = train_df[train_df['data_source'].notnull()]\n",
        "\n",
        "test_df['Length'] = [len(seq) for seq in test_df[\"protein_sequence\"]]\n",
        "test_df['Length'].mean()"
      ]
    },
    {
      "cell_type": "markdown",
      "metadata": {
        "id": "Z4HcaAj1Had_"
      },
      "source": [
        "# Data Visualization "
      ]
    },
    {
      "cell_type": "markdown",
      "metadata": {
        "id": "zJhhOcjDHad_"
      },
      "source": [
        "# Train_dataset "
      ]
    },
    {
      "cell_type": "code",
      "execution_count": null,
      "metadata": {
        "id": "FzjbG5LdHad_",
        "colab": {
          "base_uri": "https://localhost:8080/",
          "height": 251
        },
        "outputId": "c9e824be-7e4a-4e56-8d29-7d58d619ebef"
      },
      "outputs": [
        {
          "output_type": "stream",
          "name": "stdout",
          "text": [
            "<class 'pandas.core.frame.DataFrame'>\n",
            "RangeIndex: 31390 entries, 0 to 31389\n",
            "Data columns (total 5 columns):\n",
            " #   Column            Non-Null Count  Dtype  \n",
            "---  ------            --------------  -----  \n",
            " 0   seq_id            31390 non-null  int64  \n",
            " 1   protein_sequence  31390 non-null  object \n",
            " 2   pH                31104 non-null  float64\n",
            " 3   data_source       28043 non-null  object \n",
            " 4   tm                31390 non-null  float64\n",
            "dtypes: float64(2), int64(1), object(2)\n",
            "memory usage: 1.2+ MB\n"
          ]
        },
        {
          "output_type": "display_data",
          "data": {
            "text/plain": [
              "None"
            ]
          },
          "metadata": {}
        }
      ],
      "source": [
        "display(train_df.info())"
      ]
    },
    {
      "cell_type": "markdown",
      "metadata": {
        "id": "CsiX5waGHad_"
      },
      "source": [
        "1. About 1% (286) of datapoints do not have pH value\n",
        "\n",
        "2. About 10% (3,347) of datapoints do not have data_source"
      ]
    },
    {
      "cell_type": "code",
      "execution_count": null,
      "metadata": {
        "id": "_C8fv3LyHad_",
        "colab": {
          "base_uri": "https://localhost:8080/",
          "height": 251
        },
        "outputId": "f8066ca3-268e-4254-b744-192849ee714a"
      },
      "outputs": [
        {
          "output_type": "stream",
          "name": "stdout",
          "text": [
            "<class 'pandas.core.frame.DataFrame'>\n",
            "Int64Index: 3347 entries, 69 to 30742\n",
            "Data columns (total 5 columns):\n",
            " #   Column            Non-Null Count  Dtype  \n",
            "---  ------            --------------  -----  \n",
            " 0   seq_id            3347 non-null   int64  \n",
            " 1   protein_sequence  3347 non-null   object \n",
            " 2   pH                3335 non-null   float64\n",
            " 3   data_source       0 non-null      object \n",
            " 4   tm                3347 non-null   float64\n",
            "dtypes: float64(2), int64(1), object(2)\n",
            "memory usage: 156.9+ KB\n"
          ]
        },
        {
          "output_type": "display_data",
          "data": {
            "text/plain": [
              "None"
            ]
          },
          "metadata": {}
        }
      ],
      "source": [
        "display(train_df_without_datasource.info())"
      ]
    },
    {
      "cell_type": "markdown",
      "metadata": {
        "id": "nIlxXQaHHad_"
      },
      "source": [
        "1. About 12 datapoints do not have data soruce and pH values."
      ]
    },
    {
      "cell_type": "code",
      "execution_count": null,
      "metadata": {
        "id": "vz-l64VkHaeA",
        "colab": {
          "base_uri": "https://localhost:8080/"
        },
        "outputId": "5d2f2e70-eff9-4304-e845-7d3d3eb0c36b"
      },
      "outputs": [
        {
          "output_type": "execute_result",
          "data": {
            "text/plain": [
              "count    28043.000000\n",
              "mean        51.372178\n",
              "std         12.057410\n",
              "min          0.000000\n",
              "25%         43.700000\n",
              "50%         48.700000\n",
              "75%         54.500000\n",
              "max        130.000000\n",
              "Name: tm, dtype: float64"
            ]
          },
          "metadata": {},
          "execution_count": 7
        }
      ],
      "source": [
        "train_df_with_datasource['tm'].describe()"
      ]
    },
    {
      "cell_type": "code",
      "execution_count": null,
      "metadata": {
        "id": "ZjDZ96edHaeA",
        "colab": {
          "base_uri": "https://localhost:8080/"
        },
        "outputId": "b379eb26-9706-48a5-f121-a5172dad7e14"
      },
      "outputs": [
        {
          "output_type": "execute_result",
          "data": {
            "text/plain": [
              "count    3347.000000\n",
              "mean       30.506394\n",
              "std        15.292467\n",
              "min        -1.000000\n",
              "25%        22.000000\n",
              "50%        25.000000\n",
              "75%        34.600000\n",
              "max        88.900000\n",
              "Name: tm, dtype: float64"
            ]
          },
          "metadata": {},
          "execution_count": 8
        }
      ],
      "source": [
        "train_df_without_datasource['tm'].describe()"
      ]
    },
    {
      "cell_type": "markdown",
      "metadata": {
        "id": "aEhnd6KTHaeA"
      },
      "source": [
        "# Distribution of dataset with and without data_source "
      ]
    },
    {
      "cell_type": "code",
      "execution_count": null,
      "metadata": {
        "id": "rO35VTh6HaeA",
        "colab": {
          "base_uri": "https://localhost:8080/",
          "height": 279
        },
        "outputId": "4ea5402f-2c5b-4478-a261-739f54e9191c"
      },
      "outputs": [
        {
          "output_type": "display_data",
          "data": {
            "text/plain": [
              "<Figure size 432x288 with 1 Axes>"
            ],
            "image/png": "[encoded data removed]"
          },
          "metadata": {
            "needs_background": "light"
          }
        }
      ],
      "source": [
        "# Calculating mean and Stdev of tm\n",
        "df_mean = np.mean(train_df_with_datasource[\"tm\"])\n",
        "df_std = np.std(train_df_with_datasource[\"tm\"])\n",
        " \n",
        "# Calculating probability density function (PDF)\n",
        "pdf = stats.norm.pdf(train_df_with_datasource[\"tm\"].sort_values(), df_mean, df_std)\n",
        "\n",
        "# Drawing a graph\n",
        "plt.plot(train_df_with_datasource[\"tm\"].sort_values(), pdf)\n",
        "plt.xlabel(\"tm\")    \n",
        "plt.ylabel(\"Frequency\")                \n",
        "plt.show()"
      ]
    },
    {
      "cell_type": "code",
      "execution_count": null,
      "metadata": {
        "id": "d0t7SsHQHaeA",
        "colab": {
          "base_uri": "https://localhost:8080/",
          "height": 279
        },
        "outputId": "78efbc42-dbe2-46b5-b7c1-072feac08a62"
      },
      "outputs": [
        {
          "output_type": "display_data",
          "data": {
            "text/plain": [
              "<Figure size 432x288 with 1 Axes>"
            ],
            "image/png": "[encoded data removed]"
          },
          "metadata": {
            "needs_background": "light"
          }
        }
      ],
      "source": [
        "# Calculating mean and Stdev of tm\n",
        "df_mean = np.mean(train_df_without_datasource[\"tm\"])\n",
        "df_std = np.std(train_df_without_datasource[\"tm\"])\n",
        " \n",
        "# Calculating probability density function (PDF)\n",
        "pdf = stats.norm.pdf(train_df_without_datasource[\"tm\"].sort_values(), df_mean, df_std)\n",
        "\n",
        "# Drawing a graph\n",
        "plt.plot(train_df_without_datasource[\"tm\"].sort_values(), pdf)\n",
        "plt.xlabel(\"tm\")    \n",
        "plt.ylabel(\"Frequency\")                \n",
        "plt.show()"
      ]
    },
    {
      "cell_type": "code",
      "source": [
        "lengths_of_sequence = []\n",
        "train_df2 = train_df.copy()\n",
        "\n",
        "for seq in train_df2['protein_sequence']:\n",
        "    lengths_of_sequence.append(len(seq))\n",
        "train_df2['len_of_seq'] = lengths_of_sequence\n",
        "\n",
        "# Calculating mean and Stdev of tm\n",
        "df_mean = np.mean(train_df2['len_of_seq'])\n",
        "df_std = np.std(train_df2['len_of_seq'])\n",
        " \n",
        "# Calculating probability density function (PDF)\n",
        "pdf = stats.norm.pdf(train_df2['len_of_seq'].sort_values(), df_mean, df_std)\n",
        "\n",
        "# Drawing a graph\n",
        "plt.plot(train_df2['len_of_seq'].sort_values(), pdf)\n",
        "plt.xlabel(\"length of sequence\")    \n",
        "plt.ylabel(\"Frequency\")                \n",
        "plt.show()"
      ],
      "metadata": {
        "colab": {
          "base_uri": "https://localhost:8080/",
          "height": 279
        },
        "id": "UuNqLLE4cBkZ",
        "outputId": "856ef315-23e7-4411-942c-a3725d234a40"
      },
      "execution_count": null,
      "outputs": [
        {
          "output_type": "display_data",
          "data": {
            "text/plain": [
              "<Figure size 432x288 with 1 Axes>"
            ],
            "image/png": "[encoded data removed]"
          },
          "metadata": {
            "needs_background": "light"
          }
        }
      ]
    },
    {
      "cell_type": "code",
      "source": [
        "max_length = 1500\n",
        "train_df2 = train_df2[train_df2['len_of_seq']<=max_length]\n",
        "# Calculating mean and Stdev of tm\n",
        "df_mean = np.mean(train_df2['len_of_seq'])\n",
        "df_std = np.std(train_df2['len_of_seq'])\n",
        " \n",
        "# Calculating probability density function (PDF)\n",
        "pdf = stats.norm.pdf(train_df2['len_of_seq'].sort_values(), df_mean, df_std)\n",
        "\n",
        "# Drawing a graph\n",
        "plt.plot(train_df2['len_of_seq'].sort_values(), pdf)\n",
        "plt.xlabel(\"length of sequence\")    \n",
        "plt.ylabel(\"Frequency\")                \n",
        "plt.show()"
      ],
      "metadata": {
        "colab": {
          "base_uri": "https://localhost:8080/",
          "height": 279
        },
        "id": "IrFW4TSlcZ6i",
        "outputId": "df41e7c8-18cc-4d6a-95eb-22586a4d8f7b"
      },
      "execution_count": null,
      "outputs": [
        {
          "output_type": "display_data",
          "data": {
            "text/plain": [
              "<Figure size 432x288 with 1 Axes>"
            ],
            "image/png": "[encoded data removed]"
          },
          "metadata": {
            "needs_background": "light"
          }
        }
      ]
    },
    {
      "cell_type": "markdown",
      "source": [
        "We can see that the distribution of the datapoint without data_source is not drasitically different from the distribution of the datapoint with data_source. Thus, we decided to keem them in the train set."
      ],
      "metadata": {
        "id": "t72e7VYnmMoe"
      }
    },
    {
      "cell_type": "markdown",
      "metadata": {
        "id": "BeIVIW3AHaeA"
      },
      "source": [
        "# Approch1: make each letter of the sequence becomes a new feature, loss sequence information. "
      ]
    },
    {
      "cell_type": "code",
      "execution_count": null,
      "metadata": {
        "id": "B4nCu5dkHaeB"
      },
      "outputs": [],
      "source": [
        "train_df1 = train_df.copy()\n",
        "train_df1.drop(['data_source'],axis=1,inplace=True)\n",
        "train_df1['pH'] = train_df1['pH'].fillna(train_df1['pH'].mean())"
      ]
    },
    {
      "cell_type": "code",
      "source": [
        "import seaborn as sns\n",
        "sns.heatmap(train_df1.corr(),linewidths=1,cmap=plt.cm.Reds, annot=True);\n",
        "\n",
        "plt.title('Heatmap for correlation between columns of training data')"
      ],
      "metadata": {
        "id": "cusaAkirX3Oh"
      },
      "execution_count": null,
      "outputs": []
    },
    {
      "cell_type": "code",
      "source": [
        "#prepare train data\n",
        "import re\n",
        "search_amino=['A', 'C', 'D', 'E', 'F', 'G', 'H', 'I', 'K', 'L', 'M', 'N', 'P', 'Q', 'R', 'S', 'T', 'V', 'W', 'Y']\n",
        "for amino_acid in search_amino:\n",
        "     train_df1[amino_acid]=train_df['protein_sequence'].str.count(amino_acid,re.I)\n"
      ],
      "metadata": {
        "id": "U-HpiaGIY2-w"
      },
      "execution_count": null,
      "outputs": []
    },
    {
      "cell_type": "code",
      "source": [
        "train_df1.drop(['protein_sequence'],axis=1,inplace=True)\n",
        "train_df1"
      ],
      "metadata": {
        "id": "MNcB13yyZmOC"
      },
      "execution_count": null,
      "outputs": []
    },
    {
      "cell_type": "code",
      "source": [
        "#prepare test data\n",
        "test_df1 = test_df.copy()\n",
        "for amino_acid in search_amino:\n",
        "     test_df1[amino_acid]=test_df['protein_sequence'].str.count(amino_acid,re.I)\n"
      ],
      "metadata": {
        "id": "SvlzKKWwa8BR"
      },
      "execution_count": null,
      "outputs": []
    },
    {
      "cell_type": "code",
      "source": [
        "test_df1.drop(['data_source','protein_sequence'],axis=1,inplace=True)"
      ],
      "metadata": {
        "id": "8ge_n5dsbEeZ"
      },
      "execution_count": null,
      "outputs": []
    },
    {
      "cell_type": "code",
      "source": [
        "#split x and y in train data\n",
        "x=train_df1.drop(['tm'],axis=1)\n",
        "y=train_df1['tm']"
      ],
      "metadata": {
        "id": "OqbyDq1WbShV"
      },
      "execution_count": null,
      "outputs": []
    },
    {
      "cell_type": "code",
      "source": [
        "#split x_train, x_valid, y_train, y_valid\n",
        "from sklearn.model_selection import train_test_split\n",
        "x_train,x_valid,y_train,y_valid=train_test_split(x,y,test_size=0.20,random_state=42)"
      ],
      "metadata": {
        "id": "qA6gSyYUbebT"
      },
      "execution_count": null,
      "outputs": []
    },
    {
      "cell_type": "code",
      "source": [
        "from scipy.stats import randint\n",
        "\n",
        "random_grid={'max_depth':list(np.arange(10, 100, step=10)),\n",
        "              'n_estimators':np.arange(10, 500, step=50),\n",
        "              'max_features':randint(1,7),\n",
        "              'min_samples_leaf':randint(1,4),\n",
        "              'min_samples_split':np.arange(2, 10, step=2)\n",
        "         }"
      ],
      "metadata": {
        "id": "gAJ1gRYCh6s2"
      },
      "execution_count": null,
      "outputs": []
    },
    {
      "cell_type": "markdown",
      "source": [
        "RandomForest"
      ],
      "metadata": {
        "id": "tI32ZGynanTG"
      }
    },
    {
      "cell_type": "code",
      "source": [
        "from sklearn.ensemble import RandomForestRegressor\n",
        "from sklearn.model_selection import RandomizedSearchCV\n",
        "# Use the random grid to search for best hyperparameters\n",
        "#create the base model to tune\n",
        "rf = RandomForestRegressor(random_state = 42)\n",
        "rf.fit(x_train, y_train)\n",
        "print('Random Forest Score', rf.score(x_valid, y_valid))\n",
        "# Random search of parameters, using 3 fold cross validation, \n",
        "# rf_random = RandomizedSearchCV(estimator=rf, param_distributions=random_grid,\n",
        "#                               n_iter = 50, scoring='neg_mean_absolute_error', \n",
        "#                               cv =3, verbose=2, random_state=42, n_jobs=-1,\n",
        "#                               return_train_score=True)\n",
        "\n",
        "# Fit the random search model\n",
        "# rf_random.fit(x_train,y_train)"
      ],
      "metadata": {
        "id": "WmhdgM-vb0nF"
      },
      "execution_count": null,
      "outputs": []
    },
    {
      "cell_type": "code",
      "source": [
        "from sklearn.ensemble import GradientBoostingRegressor\n",
        "from sklearn.model_selection import GridSearchCV\n",
        "parameters = {'learning_rate': [0.01,0.02,0.03,0.04],\n",
        "                'subsample'    : [0.9, 0.5, 0.2, 0.1],\n",
        "                'n_estimators' : [100,500,1000, 1500],\n",
        "                'max_depth'    : [4,6,8,10]\n",
        "              }\n",
        "GBR = GradientBoostingRegressor()\n",
        "grid_GBR = GridSearchCV(estimator=GBR, param_grid = parameters, cv = 2, n_jobs=-1)\n",
        "grid_GBR.fit(x_train, y_train)\n",
        "print(\" Results from Grid Search \" )\n",
        "print(\"\\n The best estimator across ALL searched params:\\n\",grid_GBR.best_estimator_)\n",
        "print(\"\\n The best score across ALL searched params:\\n\",grid_GBR.best_score_)\n",
        "print(\"\\n The best parameters across ALL searched params:\\n\",grid_GBR.best_params_)\n"
      ],
      "metadata": {
        "id": "_nz-o8nlxLN4"
      },
      "execution_count": null,
      "outputs": []
    },
    {
      "cell_type": "code",
      "source": [
        "from sklearn.ensemble import GradientBoostingRegressor\n",
        "GBR = GradientBoostingRegressor(learning_rate=0.01, max_depth=10, n_estimators=500, subsample=0.5)\n",
        "GBR.fit(x_train, y_train)\n",
        "y_pred = GBR.predict(x_valid)"
      ],
      "metadata": {
        "id": "tm6SI75AWpbm"
      },
      "execution_count": null,
      "outputs": []
    },
    {
      "cell_type": "code",
      "source": [
        "GBR.score(x_valid,y_valid)"
      ],
      "metadata": {
        "id": "YyCFb0oMY8Mk"
      },
      "execution_count": null,
      "outputs": []
    },
    {
      "cell_type": "code",
      "source": [
        "output = GBR.predict(test_df1)\n",
        "df=pd.DataFrame(test_df1['seq_id'])\n",
        "df['tm'] = output\n",
        "df.to_csv('/content/drive/MyDrive/Cosi123 group project/submission_GBR.csv',index=False)"
      ],
      "metadata": {
        "id": "GXbcnNFUaMz4"
      },
      "execution_count": null,
      "outputs": []
    },
    {
      "cell_type": "markdown",
      "source": [
        "# Approch2: OneHot encoding and padding\n"
      ],
      "metadata": {
        "id": "-oaA5p2Xm7U8"
      }
    },
    {
      "cell_type": "code",
      "source": [
        "search_amino= [['A'],['C'],['D'],['E'],['F'],['G'], ['H'], ['I'], ['K'], ['L'], ['M'], ['N'], ['P'], ['Q'], ['R'], ['S'], ['T'], ['V'], ['W'], ['Y']]\n",
        "s=['A', 'C', 'D', 'E', 'F', 'G', 'H', 'I', 'K', 'L', 'M', 'N', 'P', 'Q', 'R', 'S', 'T', 'V', 'W', 'Y']\n",
        "pad = []\n",
        "dic = {}\n",
        "enc = OneHotEncoder()\n",
        "transformed = enc.fit_transform(search_amino).toarray()\n",
        "for i in range(len(s)):\n",
        "  dic[s[i]] = transformed[i]\n",
        "  pad.append(0)"
      ],
      "metadata": {
        "id": "osYymMM5nAyO"
      },
      "execution_count": null,
      "outputs": []
    },
    {
      "cell_type": "code",
      "source": [
        "train_df2\n"
      ],
      "metadata": {
        "id": "86KlhMnqbf9B",
        "colab": {
          "base_uri": "https://localhost:8080/",
          "height": 424
        },
        "outputId": "8c07e9f0-9682-4962-952b-acdeee88b685"
      },
      "execution_count": null,
      "outputs": [
        {
          "output_type": "execute_result",
          "data": {
            "text/plain": [
              "       seq_id                                   protein_sequence   pH  \\\n",
              "0           0  AAAAKAAALALLGEAPEVVDIWLPAGWRQPFRVFRLERKGDGVLVG...  7.0   \n",
              "1           1  AAADGEPLHNEEERAGAGQVGRSLPQESEEQRTGSRPRRRRDLGSR...  7.0   \n",
              "2           2  AAAFSTPRATSYRILSSAGSGSTRADAPQVRRLHTTRDLLAKDYYA...  7.0   \n",
              "3           3  AAASGLRTAIPAQPLRHLLQPAPRPCLRPFGLLSVRAGSARRSGLL...  7.0   \n",
              "4           4  AAATKSGPRRQSQGASVRTFTPFYFLVEPVDTLSVRGSSVILNCSA...  7.0   \n",
              "...       ...                                                ...  ...   \n",
              "31385   31385  YYMYSGGGSALAAGGGGAGRKGDWNDIDSIKKKDLHHSRGDEKAQG...  7.0   \n",
              "31386   31386  YYNDQHRLSSYSVETAMFLSWERAIVKPGAMFKKAVIGFNCNVDLI...  7.0   \n",
              "31387   31387  YYQRTLGAELLYKISFGEMPKSAQDSAENCPSGMQFPDTAIAHANV...  7.0   \n",
              "31388   31388  YYSFSDNITTVFLSRQAIDDDHSLSLGTISDVVESENGVVAADDAR...  7.0   \n",
              "31389   31389  YYVPDEYWQSLEVAHKLTFGYGYLTWEWVQGIRSYVYPLLIAGLYK...  7.0   \n",
              "\n",
              "                             data_source    tm  len_of_seq  \n",
              "0      doi.org/10.1038/s41592-020-0801-4  75.7         341  \n",
              "1      doi.org/10.1038/s41592-020-0801-4  50.5         286  \n",
              "2      doi.org/10.1038/s41592-020-0801-4  40.5         497  \n",
              "3      doi.org/10.1038/s41592-020-0801-4  47.2         265  \n",
              "4      doi.org/10.1038/s41592-020-0801-4  49.5        1451  \n",
              "...                                  ...   ...         ...  \n",
              "31385  doi.org/10.1038/s41592-020-0801-4  51.8         549  \n",
              "31386  doi.org/10.1038/s41592-020-0801-4  37.2         469  \n",
              "31387  doi.org/10.1038/s41592-020-0801-4  64.6         128  \n",
              "31388  doi.org/10.1038/s41592-020-0801-4  50.7         593  \n",
              "31389  doi.org/10.1038/s41592-020-0801-4  37.6         537  \n",
              "\n",
              "[30576 rows x 6 columns]"
            ],
            "text/html": [
              "\n",
              "  <div id=\"df-96f7da30-a2c3-447f-8f62-2ea12af04cc2\">\n",
              "    <div class=\"colab-df-container\">\n",
              "      <div>\n",
              "<style scoped>\n",
              "    .dataframe tbody tr th:only-of-type {\n",
              "        vertical-align: middle;\n",
              "    }\n",
              "\n",
              "    .dataframe tbody tr th {\n",
              "        vertical-align: top;\n",
              "    }\n",
              "\n",
              "    .dataframe thead th {\n",
              "        text-align: right;\n",
              "    }\n",
              "</style>\n",
              "<table border=\"1\" class=\"dataframe\">\n",
              "  <thead>\n",
              "    <tr style=\"text-align: right;\">\n",
              "      <th></th>\n",
              "      <th>seq_id</th>\n",
              "      <th>protein_sequence</th>\n",
              "      <th>pH</th>\n",
              "      <th>data_source</th>\n",
              "      <th>tm</th>\n",
              "      <th>len_of_seq</th>\n",
              "    </tr>\n",
              "  </thead>\n",
              "  <tbody>\n",
              "    <tr>\n",
              "      <th>0</th>\n",
              "      <td>0</td>\n",
              "      <td>AAAAKAAALALLGEAPEVVDIWLPAGWRQPFRVFRLERKGDGVLVG...</td>\n",
              "      <td>7.0</td>\n",
              "      <td>doi.org/10.1038/s41592-020-0801-4</td>\n",
              "      <td>75.7</td>\n",
              "      <td>341</td>\n",
              "    </tr>\n",
              "    <tr>\n",
              "      <th>1</th>\n",
              "      <td>1</td>\n",
              "      <td>AAADGEPLHNEEERAGAGQVGRSLPQESEEQRTGSRPRRRRDLGSR...</td>\n",
              "      <td>7.0</td>\n",
              "      <td>doi.org/10.1038/s41592-020-0801-4</td>\n",
              "      <td>50.5</td>\n",
              "      <td>286</td>\n",
              "    </tr>\n",
              "    <tr>\n",
              "      <th>2</th>\n",
              "      <td>2</td>\n",
              "      <td>AAAFSTPRATSYRILSSAGSGSTRADAPQVRRLHTTRDLLAKDYYA...</td>\n",
              "      <td>7.0</td>\n",
              "      <td>doi.org/10.1038/s41592-020-0801-4</td>\n",
              "      <td>40.5</td>\n",
              "      <td>497</td>\n",
              "    </tr>\n",
              "    <tr>\n",
              "      <th>3</th>\n",
              "      <td>3</td>\n",
              "      <td>AAASGLRTAIPAQPLRHLLQPAPRPCLRPFGLLSVRAGSARRSGLL...</td>\n",
              "      <td>7.0</td>\n",
              "      <td>doi.org/10.1038/s41592-020-0801-4</td>\n",
              "      <td>47.2</td>\n",
              "      <td>265</td>\n",
              "    </tr>\n",
              "    <tr>\n",
              "      <th>4</th>\n",
              "      <td>4</td>\n",
              "      <td>AAATKSGPRRQSQGASVRTFTPFYFLVEPVDTLSVRGSSVILNCSA...</td>\n",
              "      <td>7.0</td>\n",
              "      <td>doi.org/10.1038/s41592-020-0801-4</td>\n",
              "      <td>49.5</td>\n",
              "      <td>1451</td>\n",
              "    </tr>\n",
              "    <tr>\n",
              "      <th>...</th>\n",
              "      <td>...</td>\n",
              "      <td>...</td>\n",
              "      <td>...</td>\n",
              "      <td>...</td>\n",
              "      <td>...</td>\n",
              "      <td>...</td>\n",
              "    </tr>\n",
              "    <tr>\n",
              "      <th>31385</th>\n",
              "      <td>31385</td>\n",
              "      <td>YYMYSGGGSALAAGGGGAGRKGDWNDIDSIKKKDLHHSRGDEKAQG...</td>\n",
              "      <td>7.0</td>\n",
              "      <td>doi.org/10.1038/s41592-020-0801-4</td>\n",
              "      <td>51.8</td>\n",
              "      <td>549</td>\n",
              "    </tr>\n",
              "    <tr>\n",
              "      <th>31386</th>\n",
              "      <td>31386</td>\n",
              "      <td>YYNDQHRLSSYSVETAMFLSWERAIVKPGAMFKKAVIGFNCNVDLI...</td>\n",
              "      <td>7.0</td>\n",
              "      <td>doi.org/10.1038/s41592-020-0801-4</td>\n",
              "      <td>37.2</td>\n",
              "      <td>469</td>\n",
              "    </tr>\n",
              "    <tr>\n",
              "      <th>31387</th>\n",
              "      <td>31387</td>\n",
              "      <td>YYQRTLGAELLYKISFGEMPKSAQDSAENCPSGMQFPDTAIAHANV...</td>\n",
              "      <td>7.0</td>\n",
              "      <td>doi.org/10.1038/s41592-020-0801-4</td>\n",
              "      <td>64.6</td>\n",
              "      <td>128</td>\n",
              "    </tr>\n",
              "    <tr>\n",
              "      <th>31388</th>\n",
              "      <td>31388</td>\n",
              "      <td>YYSFSDNITTVFLSRQAIDDDHSLSLGTISDVVESENGVVAADDAR...</td>\n",
              "      <td>7.0</td>\n",
              "      <td>doi.org/10.1038/s41592-020-0801-4</td>\n",
              "      <td>50.7</td>\n",
              "      <td>593</td>\n",
              "    </tr>\n",
              "    <tr>\n",
              "      <th>31389</th>\n",
              "      <td>31389</td>\n",
              "      <td>YYVPDEYWQSLEVAHKLTFGYGYLTWEWVQGIRSYVYPLLIAGLYK...</td>\n",
              "      <td>7.0</td>\n",
              "      <td>doi.org/10.1038/s41592-020-0801-4</td>\n",
              "      <td>37.6</td>\n",
              "      <td>537</td>\n",
              "    </tr>\n",
              "  </tbody>\n",
              "</table>\n",
              "<p>30576 rows × 6 columns</p>\n",
              "</div>\n",
              "      <button class=\"colab-df-convert\" onclick=\"convertToInteractive('df-96f7da30-a2c3-447f-8f62-2ea12af04cc2')\"\n",
              "              title=\"Convert this dataframe to an interactive table.\"\n",
              "              style=\"display:none;\">\n",
              "        \n",
              "  <svg xmlns=\"http://www.w3.org/2000/svg\" height=\"24px\"viewBox=\"0 0 24 24\"\n",
              "       width=\"24px\">\n",
              "    <path d=\"M0 0h24v24H0V0z\" fill=\"none\"/>\n",
              "    <path d=\"M18.56 5.44l.94 2.06.94-2.06 2.06-.94-2.06-.94-.94-2.06-.94 2.06-2.06.94zm-11 1L8.5 8.5l.94-2.06 2.06-.94-2.06-.94L8.5 2.5l-.94 2.06-2.06.94zm10 10l.94 2.06.94-2.06 2.06-.94-2.06-.94-.94-2.06-.94 2.06-2.06.94z\"/><path d=\"M17.41 7.96l-1.37-1.37c-.4-.4-.92-.59-1.43-.59-.52 0-1.04.2-1.43.59L10.3 9.45l-7.72 7.72c-.78.78-.78 2.05 0 2.83L4 21.41c.39.39.9.59 1.41.59.51 0 1.02-.2 1.41-.59l7.78-7.78 2.81-2.81c.8-.78.8-2.07 0-2.86zM5.41 20L4 18.59l7.72-7.72 1.47 1.35L5.41 20z\"/>\n",
              "  </svg>\n",
              "      </button>\n",
              "      \n",
              "  <style>\n",
              "    .colab-df-container {\n",
              "      display:flex;\n",
              "      flex-wrap:wrap;\n",
              "      gap: 12px;\n",
              "    }\n",
              "\n",
              "    .colab-df-convert {\n",
              "      background-color: #E8F0FE;\n",
              "      border: none;\n",
              "      border-radius: 50%;\n",
              "      cursor: pointer;\n",
              "      display: none;\n",
              "      fill: #1967D2;\n",
              "      height: 32px;\n",
              "      padding: 0 0 0 0;\n",
              "      width: 32px;\n",
              "    }\n",
              "\n",
              "    .colab-df-convert:hover {\n",
              "      background-color: #E2EBFA;\n",
              "      box-shadow: 0px 1px 2px rgba(60, 64, 67, 0.3), 0px 1px 3px 1px rgba(60, 64, 67, 0.15);\n",
              "      fill: #174EA6;\n",
              "    }\n",
              "\n",
              "    [theme=dark] .colab-df-convert {\n",
              "      background-color: #3B4455;\n",
              "      fill: #D2E3FC;\n",
              "    }\n",
              "\n",
              "    [theme=dark] .colab-df-convert:hover {\n",
              "      background-color: #434B5C;\n",
              "      box-shadow: 0px 1px 3px 1px rgba(0, 0, 0, 0.15);\n",
              "      filter: drop-shadow(0px 1px 2px rgba(0, 0, 0, 0.3));\n",
              "      fill: #FFFFFF;\n",
              "    }\n",
              "  </style>\n",
              "\n",
              "      <script>\n",
              "        const buttonEl =\n",
              "          document.querySelector('#df-96f7da30-a2c3-447f-8f62-2ea12af04cc2 button.colab-df-convert');\n",
              "        buttonEl.style.display =\n",
              "          google.colab.kernel.accessAllowed ? 'block' : 'none';\n",
              "\n",
              "        async function convertToInteractive(key) {\n",
              "          const element = document.querySelector('#df-96f7da30-a2c3-447f-8f62-2ea12af04cc2');\n",
              "          const dataTable =\n",
              "            await google.colab.kernel.invokeFunction('convertToInteractive',\n",
              "                                                     [key], {});\n",
              "          if (!dataTable) return;\n",
              "\n",
              "          const docLinkHtml = 'Like what you see? Visit the ' +\n",
              "            '<a target=\"_blank\" href=https://colab.research.google.com/notebooks/data_table.ipynb>data table notebook</a>'\n",
              "            + ' to learn more about interactive tables.';\n",
              "          element.innerHTML = '';\n",
              "          dataTable['output_type'] = 'display_data';\n",
              "          await google.colab.output.renderOutput(dataTable, element);\n",
              "          const docLink = document.createElement('div');\n",
              "          docLink.innerHTML = docLinkHtml;\n",
              "          element.appendChild(docLink);\n",
              "        }\n",
              "      </script>\n",
              "    </div>\n",
              "  </div>\n",
              "  "
            ]
          },
          "metadata": {},
          "execution_count": 9
        }
      ]
    },
    {
      "cell_type": "code",
      "source": [
        "encoded_sequences = []\n",
        "x = list(train_df2['protein_sequence'])\n",
        "for i in range(train_df2.shape[0]):\n",
        "# for i in range(10000):\n",
        "  seq = x[i]\n",
        "  l = []\n",
        "  for acid in seq:\n",
        "    l.append(dic[acid])\n",
        "  for i in range(max_length - len(seq)):\n",
        "    l.append(pad)\n",
        "  encoded_sequences.append(np.array(l))\n",
        "encoded_sequences = np.array(encoded_sequences)\n",
        "encoded_sequences.shape"
      ],
      "metadata": {
        "id": "MJfCdcfknA2j",
        "colab": {
          "base_uri": "https://localhost:8080/",
          "height": 245
        },
        "outputId": "e3cdc37a-b82e-43ae-940f-8dd616a55b96"
      },
      "execution_count": null,
      "outputs": [
        {
          "output_type": "error",
          "ename": "NameError",
          "evalue": "ignored",
          "traceback": [
            "\u001b[0;31m---------------------------------------------------------------------------\u001b[0m",
            "\u001b[0;31mNameError\u001b[0m                                 Traceback (most recent call last)",
            "\u001b[0;32m<ipython-input-1-bfc45762e3db>\u001b[0m in \u001b[0;36m<module>\u001b[0;34m\u001b[0m\n\u001b[1;32m      1\u001b[0m \u001b[0mencoded_sequences\u001b[0m \u001b[0;34m=\u001b[0m \u001b[0;34m[\u001b[0m\u001b[0;34m]\u001b[0m\u001b[0;34m\u001b[0m\u001b[0;34m\u001b[0m\u001b[0m\n\u001b[0;32m----> 2\u001b[0;31m \u001b[0mx\u001b[0m \u001b[0;34m=\u001b[0m \u001b[0mlist\u001b[0m\u001b[0;34m(\u001b[0m\u001b[0mtrain_df2\u001b[0m\u001b[0;34m[\u001b[0m\u001b[0;34m'protein_sequence'\u001b[0m\u001b[0;34m]\u001b[0m\u001b[0;34m)\u001b[0m\u001b[0;34m\u001b[0m\u001b[0;34m\u001b[0m\u001b[0m\n\u001b[0m\u001b[1;32m      3\u001b[0m \u001b[0;32mfor\u001b[0m \u001b[0mi\u001b[0m \u001b[0;32min\u001b[0m \u001b[0mrange\u001b[0m\u001b[0;34m(\u001b[0m\u001b[0mtrain_df2\u001b[0m\u001b[0;34m.\u001b[0m\u001b[0mshape\u001b[0m\u001b[0;34m[\u001b[0m\u001b[0;36m0\u001b[0m\u001b[0;34m]\u001b[0m\u001b[0;34m)\u001b[0m\u001b[0;34m:\u001b[0m\u001b[0;34m\u001b[0m\u001b[0;34m\u001b[0m\u001b[0m\n\u001b[1;32m      4\u001b[0m \u001b[0;31m# for i in range(10000):\u001b[0m\u001b[0;34m\u001b[0m\u001b[0;34m\u001b[0m\u001b[0;34m\u001b[0m\u001b[0m\n\u001b[1;32m      5\u001b[0m   \u001b[0mseq\u001b[0m \u001b[0;34m=\u001b[0m \u001b[0mx\u001b[0m\u001b[0;34m[\u001b[0m\u001b[0mi\u001b[0m\u001b[0;34m]\u001b[0m\u001b[0;34m\u001b[0m\u001b[0;34m\u001b[0m\u001b[0m\n",
            "\u001b[0;31mNameError\u001b[0m: name 'train_df2' is not defined"
          ]
        }
      ]
    },
    {
      "cell_type": "code",
      "source": [],
      "metadata": {
        "id": "pF-6QPyyu7Rs"
      },
      "execution_count": null,
      "outputs": []
    },
    {
      "cell_type": "markdown",
      "source": [
        "#Approach 3: OneHotEncoding and Translating"
      ],
      "metadata": {
        "id": "I1IkbguBZF7n"
      }
    },
    {
      "cell_type": "code",
      "source": [
        "import pandas as pd\n",
        "import numpy as np\n",
        "from sklearn.tree import DecisionTreeClassifier\n",
        "from sklearn import tree\n",
        "from sklearn.preprocessing import OneHotEncoder\n",
        "\n",
        "# reading csv files\n",
        "data =  pd.read_csv('train.csv')\n",
        "# print(data)\n",
        "np_data = np.array(data,dtype=object)\n",
        "DNA = np_data[:,1]\n",
        "ph = np_data[:,2]\n",
        "tm = np_data[:,4]\n",
        "\n",
        "\n",
        "def split(x):\n",
        "    ans = []\n",
        "    for i in x:\n",
        "        ans.append(i)\n",
        "    return ans\n",
        "\n",
        "\n",
        "\n",
        "def transform(x):\n",
        "    matrix = []\n",
        "    row = []\n",
        "    for i in x:\n",
        "        for j in i:\n",
        "            row.append(j)\n",
        "        matrix.append(row)\n",
        "        row = []\n",
        "    return matrix\n",
        "\n",
        "\n",
        "\n",
        "def stack(A,B):\n",
        "    ans = []\n",
        "    row = []\n",
        "    for i in range(len(B)):\n",
        "        for j in A[i]:\n",
        "            row.append(j)\n",
        "        row.append(B[i])\n",
        "        print(row)\n",
        "        ans.append(row)\n",
        "    return ans\n",
        "\n",
        "# print(DNA)\n",
        "A = np.array(transform(DNA),dtype=object)\n",
        "# print(A[0])\n",
        "np.savetxt(\"A.csv\", A,fmt='%s')\n",
        "DNAph = stack(A, ph)\n",
        "\n",
        "print(DNAph[0])\n",
        "# print(DNAph)\n",
        "\n",
        "\n",
        "\n",
        "enc = OneHotEncoder(handle_unknown='ignore')\n",
        "enc.fit(DNAph)\n",
        "transformed = enc.transform(DNAph).toarray()\n",
        "print(transformed)\n"
      ],
      "metadata": {
        "id": "apxYKrT6ZL8Z"
      },
      "execution_count": null,
      "outputs": []
    },
    {
      "cell_type": "markdown",
      "source": [
        "# Final Approach: Using Rapid protein stability prediction model to get the thermodynamic stability changes and apply to our test data."
      ],
      "metadata": {
        "id": "EwqamegZFC6Y"
      }
    },
    {
      "cell_type": "markdown",
      "source": [
        "Use this [Colab](https://colab.research.google.com/github/KULL-Centre/papers/blob/main/2022/ML-ddG-Blaabjerg-et-al/RaSPLab.ipynb#scrollTo=Q8szWTVF-dXB) to generate the thermodynamic stability changes of all proteins. Use the \"wildtype_structure_prediction_af2.pdb\" file in kaggle as input, output file is 'cavity_pred_CUSTOM_A.csv' which we will use later."
      ],
      "metadata": {
        "id": "TEB9kSsRFzjG"
      }
    },
    {
      "cell_type": "code",
      "source": [
        "!pip install Levenshtein"
      ],
      "metadata": {
        "id": "3ZPq8bBDg3vw"
      },
      "execution_count": null,
      "outputs": []
    },
    {
      "cell_type": "code",
      "source": [
        "import Levenshtein\n",
        "def gen_mutations(name, df,\n",
        "                  wild=\"VPVNPEPDATSVENVALKTGSGDSQSDPIKADLEVKGQSALPFDVDCWAILCKGAPNVLQ\"\"RVNEKTKNSNRDRSGANKGPFKDPQKWGIKALPPKNPSWSAQDFKSPEEYAFASSLQGGT\"\"NAILAPVNLASQNSQGGVLNGFYSANKVAQFDPSKPQQTKGTWFQITKFTGAAGPYCKAL\"\"GSNDKSVCDKNKNIAGDWGFDPAKWAYQYDEKNNKFNYVGK\"):\n",
        "    result = []\n",
        "    for _, r in df.iterrows():\n",
        "        ops = Levenshtein.editops(wild, r.protein_sequence)\n",
        "        assert len(ops) <= 1\n",
        "        if len(ops) > 0 and ops[0][0] == 'replace':\n",
        "            idx = ops[0][1]\n",
        "            result.append([ops[0][0], idx + 1, wild[idx], r.protein_sequence[idx]])\n",
        "        elif len(ops) == 0:\n",
        "            result.append(['same', 0, '', ''])\n",
        "        elif ops[0][0] == 'insert':\n",
        "            assert False, \"Ups\"\n",
        "        elif ops[0][0] == 'delete':\n",
        "            idx = ops[0][1]\n",
        "            result.append(['delete', idx + 1, wild[idx], '-'])\n",
        "        else:\n",
        "            assert False, \"Ups\"\n",
        "\n",
        "    df = pd.concat([df, pd.DataFrame(data=result, columns=['op', 'idx', 'wild', 'mutant'])], axis=1)\n",
        "    df['mut'] = df[['wild', 'idx', 'mutant']].astype(str).apply(lambda v: ''.join(v), axis=1)\n",
        "    df['name'] = name\n",
        "    return df\n",
        "\n",
        "\n",
        "df_test = gen_mutations('wildtypeA', pd.read_csv('/content/drive/MyDrive/Cosi123 group project/novozymes-enzyme-stability-prediction/test.csv'))\n",
        "df_test.to_csv('/content/drive/MyDrive/Cosi123 group project/test_data.csv')"
      ],
      "metadata": {
        "id": "t3nbqLcqFovs"
      },
      "execution_count": null,
      "outputs": []
    },
    {
      "cell_type": "code",
      "source": [
        "all = pd.read_csv('/content/drive/MyDrive/Cosi123 group project/cavity_pred_CUSTOM_A.csv')\n",
        "target = df_test.copy()\n",
        "target['res']=pd.Series() \n",
        "variant = list(all['variant'])\n",
        "score = all['score_ml']\n",
        "mut=list(target['mut'])\n",
        "res = list()\n",
        "missing=list()\n",
        "mean = np.mean(score)\n",
        "for i in range(len(mut)):\n",
        "    added = False\n",
        "    for j in range(len(variant)):\n",
        "        if mut[i]==variant[j]:\n",
        "            res.append(score[j]*(-1))\n",
        "            added = True\n",
        "            break\n",
        "    if added==False:\n",
        "        missing.append(i)\n",
        "        res.append(mean)\n",
        "print(len(res))\n",
        "print('missing:', len(missing))\n",
        "submission = pd.read_csv('/content/drive/MyDrive/Cosi123 group project/novozymes-enzyme-stability-prediction/sample_submission.csv')\n",
        "submission['tm']=res\n",
        "submission['tm']\n",
        "submission.to_csv('/content/drive/MyDrive/Cosi123 group project/submission_mut.csv',index=False)"
      ],
      "metadata": {
        "id": "4ACJa21Ihj4d"
      },
      "execution_count": null,
      "outputs": []
    }
  ],
  "metadata": {
    "kernelspec": {
      "display_name": "Python 3 (ipykernel)",
      "language": "python",
      "name": "python3"
    },
    "language_info": {
      "codemirror_mode": {
        "name": "ipython",
        "version": 3
      },
      "file_extension": ".py",
      "mimetype": "text/x-python",
      "name": "python",
      "nbconvert_exporter": "python",
      "pygments_lexer": "ipython3",
      "version": "3.9.13"
    },
    "colab": {
      "provenance": [],
      "collapsed_sections": [
        "BeIVIW3AHaeA"
      ]
    }
  },
  "nbformat": 4,
  "nbformat_minor": 0
}